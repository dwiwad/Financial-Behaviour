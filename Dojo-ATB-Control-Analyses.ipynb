{
 "cells": [
  {
   "cell_type": "markdown",
   "metadata": {
    "collapsed": true
   },
   "source": [
    "# Sample control spending and saving data\n",
    "\n",
    "In this notebook I've run some basic descriptive analyses on a sample of 100 kids from ATB. These are not kids who got or are getting Dojo. This is simply so we can explore spending and saving behaviour in broad strokes more naturally, as a comparison point for understanding the potential behavior change after a child starts interacting with the Dojo platform."
   ]
  },
  {
   "cell_type": "markdown",
   "metadata": {},
   "source": [
    "## Setup\n",
    "\n",
    "As always, first things first I need to do a little bit of data munging to get everything into useable shape."
   ]
  },
  {
   "cell_type": "code",
   "execution_count": 4,
   "metadata": {},
   "outputs": [],
   "source": [
    "# Getting the packages I need for now\n",
    "import pandas as pd\n",
    "import numpy as np\n",
    "\n",
    "# Read the data file in\n",
    "data = pd.read_csv('dojo_100bp_sample_trxn_listing_18039.csv')\n",
    "\n",
    "# Getting a list of all the column names\n",
    "col_names = data.columns.tolist()\n"
   ]
  },
  {
   "cell_type": "code",
   "execution_count": 5,
   "metadata": {},
   "outputs": [
    {
     "name": "stdout",
     "output_type": "stream",
     "text": [
      "['Primary BP', 'Joint BP', 'Birth Dt', 'Postal', 'Age Grp', 'Urban Rural', 'Acct Oid', 'Product', 'Start Date', 'Rpt Month', ' Opening Balance ', 'Closing Balance', 'Trxn Type', 'Trxn Description', 'Trxn create date', 'Debit Credit Flg', 'Trxn Amount', 'Trxn Group', 'Pymt Note Code', 'Payment Details', 'EFT code', 'EFT Details', 'Channel', 'Reference Bank']\n"
     ]
    }
   ],
   "source": [
    "# Just a couple fixes to turn the transaction amounts into numbers.\n",
    "# Removing commas and converting to numeric\n",
    "data['Trxn Amount'] = data['Trxn Amount'].str.replace(\",\", \"\")\n",
    "data['Trxn Amount'] = pd.to_numeric(data['Trxn Amount'])\n",
    "\n",
    "# Just get a quick look at what the columns in the data set are.\n",
    "print(col_names) # Just get a quick look at what the columns in the data set are\n"
   ]
  },
  {
   "cell_type": "code",
   "execution_count": 7,
   "metadata": {},
   "outputs": [
    {
     "name": "stdout",
     "output_type": "stream",
     "text": [
      "<class 'pandas.core.frame.DataFrame'>\nRangeIndex: 6475 entries, 0 to 6474\nData columns (total 24 columns):\nPrimary BP           6475 non-null int64\nJoint BP             6475 non-null int64\nBirth Dt             6475 non-null object\nPostal               6468 non-null object\nAge Grp              6475 non-null object\nUrban Rural          6475 non-null object\nAcct Oid             6475 non-null int64\nProduct              6475 non-null object\nStart Date           6475 non-null object\nRpt Month            6475 non-null object\n Opening Balance     6475 non-null object\nClosing Balance      6384 non-null object\nTrxn Type            6449 non-null float64\nTrxn Description     6449 non-null object\nTrxn create date     6475 non-null object\nDebit Credit Flg     6449 non-null object\nTrxn Amount          6449 non-null float64\nTrxn Group           6449 non-null object\nPymt Note Code       6475 non-null object\nPayment Details      4747 non-null object\nEFT code             213 non-null float64\nEFT Details          213 non-null object\nChannel              6022 non-null object\nReference Bank       5996 non-null float64\ndtypes: float64(4), int64(3), object(17)\nmemory usage: 1.2+ MB\nNone\n"
     ]
    }
   ],
   "source": [
    "print(data.info())\n",
    " "
   ]
  },
  {
   "cell_type": "code",
   "execution_count": 8,
   "metadata": {},
   "outputs": [
    {
     "name": "stdout",
     "output_type": "stream",
     "text": [
      "100\n"
     ]
    }
   ],
   "source": [
    "# Just checking to make sure there are 100 unique kids\n",
    "print(len(set(data['Primary BP'])))"
   ]
  },
  {
   "cell_type": "markdown",
   "metadata": {},
   "source": [
    "Everything looks good so far. Lets just take a quick look and see how many transactions were made (by 100 kids, over a 6 month period)."
   ]
  },
  {
   "cell_type": "code",
   "execution_count": 9,
   "metadata": {},
   "outputs": [
    {
     "name": "stdout",
     "output_type": "stream",
     "text": [
      "DB    5052\nCR    1397\nName: Debit Credit Flg, dtype: int64\n"
     ]
    }
   ],
   "source": [
    "print(data['Debit Credit Flg'].value_counts())"
   ]
  },
  {
   "cell_type": "markdown",
   "metadata": {},
   "source": [
    "Seems like there are way more outgoing that incoming transactions, which makes total sense. You might buy things everyday, but get paid once a week or every two weeks. Lets dig into this a little deeper -  what is the total amount of money that was moven in these transactions?"
   ]
  },
  {
   "cell_type": "code",
   "execution_count": 10,
   "metadata": {},
   "outputs": [
    {
     "name": "stdout",
     "output_type": "stream",
     "text": [
      "                  Trxn Amount\nDebit Credit Flg             \nCR                  329805.99\nDB                  306922.09\n"
     ]
    }
   ],
   "source": [
    "amounts_moved_new = pd.pivot_table(data, values='Trxn Amount',\n",
    "                               index=['Debit Credit Flg'], aggfunc=sum)\n",
    "print(amounts_moved_new)"
   ]
  },
  {
   "cell_type": "markdown",
   "metadata": {},
   "source": [
    "Wow, so these kids are moving some money. Apparently, over 6 months these 100 kids earned approximately $330,000 and spent nearly the same.\n",
    "\n",
    "This obviously has to be some sort of issue. When I dig into the raw data a little bit to take a look there are some odd things in there that I really have no way of explaining. For example, one kid recieved a ~$30,000 deposit, which was then withdrew, and then another similarly large sum deposited, etc. This particular kid accounted for most of this money movement.\n",
    "\n",
    "Let's break this down a little bit more and take a look at the total money movement across the age categories, and get an aggregate savings rate based on the total amount of debits and credits. Note: this "
   ]
  },
  {
   "cell_type": "code",
   "execution_count": 12,
   "metadata": {},
   "outputs": [
    {
     "name": "stdout",
     "output_type": "stream",
     "text": [
      "Debit Credit Flg         CR         DB\nAge Grp                               \n1. 1 to 9 yrs      38835.17   32460.24\n2. 10 to 12 yrs     1414.18    1227.10\n3. 13 to 14 yrs    15046.96   12201.84\n4. 15 yrs           8533.27    6857.60\n5. 16 yrs          45034.17   49171.85\n6. 17 yrs         220942.24  205003.46\n"
     ]
    }
   ],
   "source": [
    "amounts_moved_age = pd.pivot_table(data, values='Trxn Amount', index='Age Grp', columns=['Debit Credit Flg'],\n",
    "                                   aggfunc=sum)\n",
    "print(amounts_moved_age)"
   ]
  },
  {
   "cell_type": "markdown",
   "metadata": {},
   "source": [
    "Okay, so it seems like in most of the cases, the age groups on ON THE WHOLE spending less than they are earning, which is good! When you look at these numbers as is, the savings rate is about 10%, though it drops lower (even going negative) as the kids get older. Which is not at all surprising, as thats when kids are getting more autonomy, driving, etc.\n",
    "\n",
    "Here is just a quick visualization of the savings rate from the aggregate data in the above table."
   ]
  },
  {
   "cell_type": "code",
   "execution_count": 15,
   "metadata": {},
   "outputs": [
    {
     "data": {
      "text/plain": [
       "[Text(0,0,u'1 to 9'),\n Text(0,0,u'10 to 12'),\n Text(0,0,u'13 to 14'),\n Text(0,0,u'15'),\n Text(0,0,u'16'),\n Text(0,0,u'17')]"
      ]
     },
     "execution_count": 15,
     "metadata": {},
     "output_type": "execute_result"
    },
    {
     "data": {
      "image/png": "[encoded data removed]",
      "text/plain": [
       "<matplotlib.figure.Figure at 0x10ea35310>"
      ]
     },
     "metadata": {},
     "output_type": "display_data"
    }
   ],
   "source": [
    "# Trying to plot this pivot table\n",
    "import matplotlib.pyplot as plt\n",
    "amounts_moved_age['savings'].plot.bar(color='skyblue', ec='black')\n",
    "plt.ylabel('Savings Rate')\n",
    "plt.title('Aggregate savings rate by age group')\n",
    "plt.xlabel('Age Groups')\n",
    "plt.axhline(amounts_moved_age['savings'].mean(), linestyle='dashed', color='red')\n",
    "plt.axhline(0, color='black')\n",
    "plt.gca().set_xticklabels(['1 to 9', '10 to 12', '13 to 14', '15', '16', '17'])"
   ]
  },
  {
   "cell_type": "markdown",
   "metadata": {},
   "source": [
    "Here, the red line is the average savings rate, about 12%.\n",
    "\n",
    "Moving on from these aggregates though, lets actually calculate how much money was earned and spent for each kid individually and look at what the savings rates really are. That is, the real averages taking every kid into account.\n",
    "\n",
    "## Spending and Saving by Kid\n",
    "\n",
    "First things first, the below chunk of code will group our data by kid and sum about the totals of their transactions, both credits and debits. So we can see, for example, the first kid (ID 613570) earned $0.36, and spent nothing. The second kid (ID 623262) earned $5590.99 and spent $5249.68."
   ]
  },
  {
   "cell_type": "code",
   "execution_count": 16,
   "metadata": {},
   "outputs": [
    {
     "name": "stdout",
     "output_type": "stream",
     "text": [
      "     Primary BP Debit Credit Flg  Trxn Amount\n0        613570               CR         0.36\n1        623262               CR      5590.99\n2        623262               DB      5249.68\n3        654016               CR     13080.29\n4        654016               DB     13253.80\n5        800222               CR     23309.62\n6        800222               DB     25773.65\n7        904341               CR      3725.76\n8        904341               DB      3734.65\n9        932022               CR     10861.84\n10       932022               DB     11305.51\n11       938237               CR      4288.24\n12       938237               DB      3800.17\n13       938266               CR       250.00\n14       938266               DB       192.14\n15      1299498               CR       560.61\n16      1299498               DB      1000.00\n17      1300140               CR         1.36\n18      1300744               CR       205.07\n19      1300744               DB       280.40\n20      1305122               CR        25.12\n21      1305732               CR     13333.03\n22      1305732               DB     16086.07\n23      1320153               CR      7231.56\n24      1320153               DB      6886.73\n25      1329919               CR       582.15\n26      1329957               CR     17225.19\n27      1329957               DB     13121.11\n28      1334105               CR      2960.67\n29      1334105               DB      1932.01\n..          ...              ...          ...\n128     2260557               DB      9865.25\n129     2278709               CR      1025.01\n130     2278709               DB      1039.22\n131     2282026               CR      5329.21\n132     2282026               DB      7591.70\n133     2297458               CR        20.00\n134     2305263               CR       100.05\n135     2305263               DB       105.64\n136     2354263               CR       310.12\n137     2354263               DB       120.70\n138     2362059               CR      2081.48\n139     2362059               DB      1844.00\n140     2362153               CR      1379.85\n141     2362153               DB      1623.03\n142     2378933               CR       150.19\n143     2388717               CR      1012.41\n144     2396090               CR       180.04\n145     2396090               DB        66.73\n146     2424276               CR       580.01\n147     2424276               DB       580.00\n148     2447791               CR       125.00\n149     2447791               DB       124.03\n150     2450728               CR      1700.73\n151     2450728               DB      1699.15\n152     2461626               CR        90.00\n153     2461626               DB        22.48\n154     2472309               CR       199.80\n155     2473494               CR        12.07\n156     2477358               CR       120.00\n157     2477358               DB        70.83\n\n[158 rows x 3 columns]\n"
     ]
    }
   ],
   "source": [
    "# Summaries of spending and saving by kid\n",
    "cols = ['Primary BP', 'Debit Credit Flg', 'Trxn Amount']\n",
    "transact_data = data[cols]\n",
    "data_grouped = transact_data.groupby(['Primary BP', 'Debit Credit Flg'], as_index=False).agg('sum')\n",
    "print(data_grouped)\n"
   ]
  },
  {
   "cell_type": "markdown",
   "metadata": {},
   "source": [
    "From here we want to actually get savings rates for each individual kid. I'm going to do that with dictionaries here."
   ]
  },
  {
   "cell_type": "code",
   "execution_count": 17,
   "metadata": {},
   "outputs": [
    {
     "name": "stdout",
     "output_type": "stream",
     "text": [
      "{1840131: 1793.71, 1798153: 0.060000000000000005, 2102801: 45.01, 1498643: 1000.02, 2213806: 1185.0, 2473494: 12.07, 1883675: 205.8, 1658401: 4139.129999999999, 1305122: 25.119999999999997, 1299498: 560.61, 2220084: 15.0, 2260557: 10075.499999999998, 2112593: 90.0, 1868371: 30.080000000000005, 2354263: 310.12, 2022244: 4240.72, 2461626: 90.0, 1705063: 7203.33, 2142653: 150.0, 2297458: 20.0, 2073719: 6004.26, 1621635: 1154.16, 1305732: 13333.030000000002, 904341: 3725.76, 2132119: 500.01, 623262: 5590.990000000001, 2135714: 840.0999999999999, 1300140: 1.3599999999999999, 2378933: 150.19, 932022: 10861.84, 2175678: 9919.740000000002, 654016: 13080.29, 613570: 0.36, 2362059: 2081.4799999999996, 1804486: 450.44, 1784520: 406.21, 2242251: 60.040000000000006, 1320153: 7231.56, 2388717: 1012.4100000000002, 2305263: 100.05000000000001, 2282026: 5329.210000000001, 1329919: 582.15, 2041095: 0.6, 1300744: 205.07, 2218251: 227.78, 2078999: 667.0, 938266: 250.0, 2070817: 8698.240000000002, 1329957: 17225.190000000002, 2450728: 1700.73, 2362153: 1379.85, 1340203: 10752.05, 2477358: 120.0, 1727796: 50.01, 2278709: 1025.01, 2256696: 96.71000000000001, 2157385: 1618.8700000000003, 2128203: 25.060000000000002, 2047827: 4386.14, 1334105: 2960.6699999999996, 1813345: 300.0, 2215780: 1050.12, 1465702: 599.23, 1584490: 40.059999999999995, 1336683: 10.24, 2030448: 1529.2900000000002, 2472309: 199.8, 1812348: 0.10999999999999999, 2247038: 4.07, 2155906: 8987.839999999998, 2076565: 115.08, 1341342: 495.09000000000003, 1539493: 6238.570000000001, 2126758: 855.06, 1924007: 501.0, 1737644: 4103.58, 1972654: 1580.97, 2447791: 125.0, 2092702: 427.71, 2396090: 180.03999999999996, 1480125: 100.07, 1876431: 15454.18, 2424276: 580.01, 1813975: 93146.86999999998, 2248155: 588.12, 800222: 23309.619999999995, 938237: 4288.240000000001, 1771007: 0.12000000000000001}\n{2155906: -10317.330000000002, 1621635: -1156.66, 1305732: -16086.070000000003, 1300744: -280.40000000000003, 2078999: -719.17, 2132119: -143.17999999999998, 2102801: -10.0, 1840131: -1109.53, 904341: -3734.6499999999983, 2260557: -9865.249999999996, 1320153: -6886.730000000001, 938266: -192.14000000000001, 1883675: -206.85, 1341342: -125.47999999999999, 2220084: -5.0, 1658401: -3839.060000000001, 2135714: -751.78, 1329957: -13121.109999999997, 2126758: -500.0, 1924007: -477.7400000000001, 2450728: -1699.15, 2362153: -1623.03, 1299498: -1000.0, 1340203: -10481.679999999998, 1737644: -4575.280000000002, 1972654: -1643.4799999999996, 2447791: -124.03, 1727796: -34.93, 623262: -5249.68, 932022: -11305.51, 2256696: -40.0, 2215780: -1026.67, 2396090: -66.73, 2175678: -8273.3, 2278709: -1039.22, 654016: -13253.799999999996, 2362059: -1843.9999999999995, 2218251: -125.0, 2282026: -7591.699999999997, 2070817: -8819.329999999998, 1784520: -255.99, 2157385: -1473.5300000000002, 2242251: -117.11, 2213806: -810.0, 1876431: -17386.300000000003, 2112593: -84.0, 1868371: -60.0, 2424276: -580.0, 1813975: -79147.90999999997, 1334105: -1932.01, 2477358: -70.83000000000001, 2248155: -562.58, 2461626: -22.48, 800222: -25773.650000000005, 1539493: -6866.519999999997, 1813345: -150.0, 2022244: -4241.19, 1705063: -6860.71, 1584490: -187.12, 1336683: -10.0, 1624814: -7.129999999999999, 2305263: -105.64, 2030448: -1440.1300000000006, 2193649: -1.05, 2047827: -4157.139999999999, 2354263: -120.69999999999999, 1812348: -250.0, 938237: -3800.1700000000023, 2092702: -869.43, 2076565: -234.12}\n"
     ]
    }
   ],
   "source": [
    "# Amount of money saved and  savings rate by kid in a dictionary\n",
    "data_grouped.loc[data_grouped['Debit Credit Flg'] == 'DB', ['Trxn Amount']] *= -1\n",
    "test = data_grouped.groupby('Primary BP')['Trxn Amount'].sum().to_dict()\n",
    "\n",
    "earnings = data_grouped.loc[data_grouped['Debit Credit Flg'] == 'CR']\n",
    "spending = data_grouped.loc[data_grouped['Debit Credit Flg'] == 'DB']\n",
    "\n",
    "earning_dict = earnings.groupby('Primary BP')['Trxn Amount'].sum().to_dict()\n",
    "spending_dict = spending.groupby('Primary BP')['Trxn Amount'].sum().to_dict()\n",
    "print(earning_dict)\n"
   ]
  },
  {
   "cell_type": "markdown",
   "metadata": {},
   "source": [
    "Now below here, we see a parallel dictionary but just containing what each kid spent. Notice how I multiplied each value by -1, so the amount of money a kid spent is negative."
   ]
  },
  {
   "cell_type": "code",
   "execution_count": 18,
   "metadata": {},
   "outputs": [
    {
     "name": "stdout",
     "output_type": "stream",
     "text": [
      "{2155906: -10317.330000000002, 1621635: -1156.66, 1305732: -16086.070000000003, 1300744: -280.40000000000003, 2078999: -719.17, 2132119: -143.17999999999998, 2102801: -10.0, 1840131: -1109.53, 904341: -3734.6499999999983, 2260557: -9865.249999999996, 1320153: -6886.730000000001, 938266: -192.14000000000001, 1883675: -206.85, 1341342: -125.47999999999999, 2220084: -5.0, 1658401: -3839.060000000001, 2135714: -751.78, 1329957: -13121.109999999997, 2126758: -500.0, 1924007: -477.7400000000001, 2450728: -1699.15, 2362153: -1623.03, 1299498: -1000.0, 1340203: -10481.679999999998, 1737644: -4575.280000000002, 1972654: -1643.4799999999996, 2447791: -124.03, 1727796: -34.93, 623262: -5249.68, 932022: -11305.51, 2256696: -40.0, 2215780: -1026.67, 2396090: -66.73, 2175678: -8273.3, 2278709: -1039.22, 654016: -13253.799999999996, 2362059: -1843.9999999999995, 2218251: -125.0, 2282026: -7591.699999999997, 2070817: -8819.329999999998, 1784520: -255.99, 2157385: -1473.5300000000002, 2242251: -117.11, 2213806: -810.0, 1876431: -17386.300000000003, 2112593: -84.0, 1868371: -60.0, 2424276: -580.0, 1813975: -79147.90999999997, 1334105: -1932.01, 2477358: -70.83000000000001, 2248155: -562.58, 2461626: -22.48, 800222: -25773.650000000005, 1539493: -6866.519999999997, 1813345: -150.0, 2022244: -4241.19, 1705063: -6860.71, 1584490: -187.12, 1336683: -10.0, 1624814: -7.129999999999999, 2305263: -105.64, 2030448: -1440.1300000000006, 2193649: -1.05, 2047827: -4157.139999999999, 2354263: -120.69999999999999, 1812348: -250.0, 938237: -3800.1700000000023, 2092702: -869.43, 2076565: -234.12}\n"
     ]
    }
   ],
   "source": [
    "print(spending_dict)"
   ]
  },
  {
   "cell_type": "markdown",
   "metadata": {},
   "source": [
    "Again, just need to do a bit of housekeeping. If a kid didn't earn any money at all we can't calculate a savings rate (I will try to look at this taking into account starting account balances a little further down). If they didn't earn any money, the first chunk of code here simply creates them an entry in the spending dictionary and gives them a value of 0. This way we can calculate a savings rate. So, we'll pair up the dictionaries first.\n",
    "\n",
    "The second chunk of code below actually calculates the savings rate for each individual kid and stores it in a new dictionary called \"savings_rate,\" which then prints. For instance, you can see the kid with ID 1840131 saved 38% of what he earned."
   ]
  },
  {
   "cell_type": "code",
   "execution_count": 21,
   "metadata": {},
   "outputs": [
    {
     "name": "stdout",
     "output_type": "stream",
     "text": [
      "{1840131: 0.38143289606458125, 1798153: 1.0, 2102801: 0.7778271495223283, 1498643: 1.0, 1972654: -0.03953901718565155, 2473494: 1.0, 1883675: -0.005102040816326448, 1658401: 0.07249591097646085, 1305122: 1.0, 1299498: -0.7837712491750057, 2220084: 0.6666666666666666, 2260557: 0.02086745074686138, 2112593: 0.06666666666666667, 1868371: -0.9946808510638294, 2354263: 0.6107958209725268, 2022244: -0.00011083023637480078, 2396090: 0.6293601421906242, 1705063: 0.04756411270898319, 1480125: 1.0, 2297458: 1.0, 2073719: 1.0, 1621635: -0.0021660774935884104, 1305732: -0.20648269748136772, 904341: -0.0023860903547190514, 2132119: 0.7136457270854584, 623262: 0.0610464336369767, 2135714: 0.10513034162599684, 1300140: 1.0, 2378933: 1.0, 932022: -0.04084667054569024, 2175678: 0.16597612437422776, 654016: -0.013264996418274728, 613570: 1.0, 2362059: 0.1140918961508158, 1804486: 1.0, 1784520: 0.36980871962777867, 2242251: -0.9505329780146566, 1320153: 0.047684040511314155, 2388717: 1.0, 2305263: -0.055872063968015875, 2282026: -0.42454510143154345, 1329919: 1.0, 2041095: 1.0, 1300744: -0.36733798215243596, 2218251: 0.4512248660988673, 2078999: -0.07821589205397295, 938266: 0.23143999999999995, 2070817: -0.013921207048781878, 1329957: 0.2382603617144429, 2450728: 0.0009290128356646424, 2362153: -0.17623654745080994, 1340203: 0.025145902409308068, 2477358: 0.4097499999999999, 1727796: 0.30153969206158765, 2278709: -0.013863279382640205, 2256696: 0.5863923068969084, 2157385: 0.08977867277792541, 2128203: 1.0, 2047827: 0.05220991578016226, 1334105: 0.3474416263886214, 1813345: 0.5, 2215780: 0.02233078124404813, 1465702: 1.0, 1584490: -3.6709935097353976, 1336683: 0.02343750000000002, 2030448: 0.05830156477842634, 2472309: 1.0, 1812348: -2271.727272727273, 2247038: 1.0, 2155906: -0.14792096877559055, 2076565: -1.0344108446298228, 1341342: 0.7465511321173928, 1539493: -0.10065607983880859, 2126758: 0.41524571375108177, 1924007: 0.04642714570858259, 1737644: -0.11494841089975134, 2213806: 0.31645569620253167, 2447791: 0.007759999999999991, 2092702: -1.032755839236866, 2461626: 0.7502222222222221, 2142653: 1.0, 1876431: -0.12502248582584147, 2424276: 1.72410820502938e-05, 1813975: 0.15028910794318703, 2248155: 0.04342651159627281, 800222: -0.10570871597220419, 938237: 0.1138159244818383, 1771007: 1.0}\n"
     ]
    }
   ],
   "source": [
    "# For earnings we don't need to populate the whole thing because if their earnings\n",
    "# are 0, we can't calculate a savings rate\n",
    "for key in earning_dict:\n",
    "    if key not in spending_dict:\n",
    "        spending_dict[key] = 0\n",
    "        \n",
    "savings_rate = {}\n",
    "for key in earning_dict:\n",
    "    saving = (((earning_dict[key]) + (spending_dict[key])) / (earning_dict[key]))\n",
    "    savings_rate[key] = saving\n",
    "print(savings_rate)\n",
    "\n"
   ]
  },
  {
   "cell_type": "markdown",
   "metadata": {},
   "source": [
    "First, I'm just going to take all the savings rates out and append them to a list so I can calcuate the average."
   ]
  },
  {
   "cell_type": "code",
   "execution_count": 35,
   "metadata": {
    "collapsed": false
   },
   "outputs": [
    {
     "name": "stdout",
     "output_type": "stream",
     "text": [
      "[0.38143289606458125, 1.0, 0.7778271495223283, 1.0, -0.03953901718565155, 1.0, -0.005102040816326448, 0.07249591097646085, 1.0, -0.7837712491750057, 0.6666666666666666, 0.02086745074686138, 0.06666666666666667, -0.9946808510638294, 0.6107958209725268, -0.00011083023637480078, 0.6293601421906242, 0.04756411270898319, 1.0, 1.0, 1.0, -0.0021660774935884104, -0.20648269748136772, -0.0023860903547190514, 0.7136457270854584, 0.0610464336369767, 0.10513034162599684, 1.0, 1.0, -0.04084667054569024, 0.16597612437422776, -0.013264996418274728, 1.0, 0.1140918961508158, 1.0, 0.36980871962777867, -0.9505329780146566, 0.047684040511314155, 1.0, -0.055872063968015875, -0.42454510143154345, 1.0, 1.0, -0.36733798215243596, 0.4512248660988673, -0.07821589205397295, 0.23143999999999995, -0.013921207048781878, 0.2382603617144429, 0.0009290128356646424, -0.17623654745080994, 0.025145902409308068, 0.4097499999999999, 0.30153969206158765, -0.013863279382640205, 0.5863923068969084, 0.08977867277792541, 1.0, 0.05220991578016226, 0.3474416263886214, 0.5, 0.02233078124404813, 1.0, -3.6709935097353976, 0.02343750000000002, 0.05830156477842634, 1.0, -2271.727272727273, 1.0, -0.14792096877559055, -1.0344108446298228, 0.7465511321173928, -0.10065607983880859, 0.41524571375108177, 0.04642714570858259, -0.11494841089975134, 0.31645569620253167, 0.007759999999999991, -1.032755839236866, 0.7502222222222221, 1.0, -0.12502248582584147, 1.72410820502938e-05, 0.15028910794318703, 0.04342651159627281, -0.10570871597220419, 0.1138159244818383, 1.0]\n"
     ]
    }
   ],
   "source": [
    "# Average savings rate\n",
    "avg_save = []\n",
    "for key in savings_rate:\n",
    "    avg_save.append(savings_rate[key])\n",
    "print(avg_save)\n"
   ]
  },
  {
   "cell_type": "markdown",
   "metadata": {},
   "source": [
    "What you'll notice right away is that there is a kid who saved -22710%. This is a kid who earned nothing in the six month period, but spent $250. I'm going to remove him and then calculate the overall average."
   ]
  },
  {
   "cell_type": "code",
   "execution_count": 36,
   "metadata": {},
   "outputs": [
    {
     "name": "stdout",
     "output_type": "stream",
     "text": [
      "0.233082305407\n"
     ]
    }
   ],
   "source": [
    "# There is one kid who earned nothing but spent $250, remove him.\n",
    "avg_save.remove(-2271.727272727273)\n",
    "print(sum(avg_save)/len(avg_save))"
   ]
  },
  {
   "cell_type": "markdown",
   "metadata": {},
   "source": [
    "So we see that the average savings rate is 23.3%. Below is a histogram of the savings rates. What we can see is that the distribution is bimodal, with peaks at both 0% and 100%. This is not completely unsurprising - I think its primarily from kids who earned nothing (100%) or spent nothing (0%). There is one outlier there who seemed to spend about 3.5x what they earned. The red dashed line is the average."
   ]
  },
  {
   "cell_type": "code",
   "execution_count": 46,
   "metadata": {},
   "outputs": [
    {
     "data": {
      "image/png": "[encoded data removed]",
      "text/plain": [
       "<matplotlib.figure.Figure at 0x112003710>"
      ]
     },
     "metadata": {},
     "output_type": "display_data"
    }
   ],
   "source": [
    "# Savings per kid\n",
    "fig1, ax1 = plt.subplots()\n",
    "fig1 = plt.hist(avg_save, color='skyblue', ec='black', bins=20)\n",
    "ax1.tick_params(bottom=\"off\", top=\"off\", left=\"off\", right=\"off\")\n",
    "ax1.set_title('Histogram of the Savings rates per kid, Feb 19th, 2018')\n",
    "ax1.spines[\"right\"].set_visible(False)\n",
    "ax1.spines[\"top\"].set_visible(False)\n",
    "ax1.set_ylabel('Number of Kids')\n",
    "ax1.set_xlabel('Savings Rate (avg = 23.3%)')\n",
    "plt.axvline(0.233, color='red', linestyle='dashed')\n",
    "ax1.set_ylim(0,40)\n",
    "plt.show()\n"
   ]
  },
  {
   "cell_type": "markdown",
   "metadata": {},
   "source": [
    "This average savings rate, though, does not take in to account kids starting balances. Hence the negative savings rates - how could a kid have spent more than they earned if they didn't already have some money in the bank? So, let's try to take a look at savings rates as a function of account closing balances.\n",
    "\n",
    "##Monthly Closing Balances as Savings\n",
    "\n",
    "To try and look at this I utilized the \"Closing Balance\" variable. Each kid has a closing account balance each month from August 2017 through January 2018 (6 months). So I decided to try and look at this by looking at closing account balances relative to their starting point in August. In order to do this, in the following code I grouped the data by BPID, and subtracted each kids closing balance in their first month from every other balance, giving us a difference score measuring the overall growth, or shrinkage, of their bank account over the 6 months.\n",
    "\n",
    "So, for reference, if I was a kid and at the end of each of the 6 months had closing balances of $10, $12, $14, $16, $18, and $20, our difference scores catching this growth would be $0, $2, $4, $6, $8, $10. First things first, lets trim up the data set to just have the variables we want, and only the rows we want."
   ]
  },
  {
   "cell_type": "code",
   "execution_count": 39,
   "metadata": {},
   "outputs": [
    {
     "name": "stdout",
     "output_type": "stream",
     "text": [
      "      Primary BP     Product Rpt Month Closing Balance\n0         613570  DP_GENRATN    201708          761.04\n1         613570  DP_GENRATN    201709           761.1\n2         613570  DP_GENRATN    201710          761.16\n3         613570  DP_GENRATN    201711          761.22\n4         613570  DP_GENRATN    201712          761.28\n5         613570  DP_GENRATN    201801          761.34\n6         623262  DP_GENRATN    201708           76.16\n30        623262  DP_GENRATN    201709        1,357.84\n52        623262  DP_GENRATN    201710           16.03\n79        623262  DP_GENRATN    201711        1,079.42\n85        623262  DP_GENRATN    201712        1,024.56\n136       623262  DP_GENRATN    201801          442.91\n159       654016  DP_GENRATN    201708        1,070.46\n217       654016  DP_GENRATN    201709        2,034.56\n263       654016  DP_GENRATN    201710          247.14\n317       654016  DP_GENRATN    201711        1,192.51\n386       654016  DP_GENRATN    201712        2,271.85\n441       654016  DP_GENRATN    201801        1,242.35\n528       654016  DP_GENRATN       . .             NaN\n627       800222  DP_GENRATN    201708           77.67\n636       800222  DP_GENRATN    201709           18.87\n644       800222  DP_GENRATN    201710           16.86\n654       800222  DP_GENRATN    201711           60.88\n658       800222  DP_GENRATN    201712           12.94\n664       800222  DP_GENRATN    201801           105.9\n675       904341  DP_GENRATN    201708           16.12\n726       904341  DP_GENRATN    201709            9.74\n773       904341  DP_GENRATN    201710          100.31\n820       904341  DP_GENRATN    201711            5.14\n864       904341  DP_GENRATN    201712            6.67\n...          ...         ...       ...             ...\n6359     2378933  DP_GENRATN    201709          445.03\n6361     2378933  DP_GENRATN    201710          445.07\n6362     2378933  DP_GENRATN    201711          495.11\n6364     2378933  DP_GENRATN    201712          495.15\n6365     2378933  DP_GENRATN    201801          495.19\n6366     2388717  DP_GENRATN    201708        1,012.00\n6367     2388717  DP_GENRATN    201709        1,012.07\n6368     2388717  DP_GENRATN    201710        1,012.15\n6369     2388717  DP_GENRATN    201711        1,012.24\n6370     2388717  DP_GENRATN    201712        1,012.32\n6372     2396090  DP_GENRATN    201708             158\n6375     2396090  DP_GENRATN    201709           155.7\n6376     2396090  DP_GENRATN    201710          131.37\n6380     2396090  DP_GENRATN    201711          113.29\n6383     2396090  DP_GENRATN    201712           113.3\n6384     2396090  DP_GENRATN    201801          113.31\n6389     2424276  DP_GENRATN    201711              80\n6392     2424276  DP_GENRATN    201712             100\n6394     2424276  DP_GENRATN    201801            0.01\n6399     2447791  DP_GENRATN    201711           29.01\n6408     2447791  DP_GENRATN    201712              70\n6415     2447791  DP_GENRATN    201801            0.97\n6429     2450728  DP_GENRATN    201711            1.47\n6434     2450728  DP_GENRATN    201712            0.83\n6444     2450728  DP_GENRATN    201801            1.58\n6454     2461626  DP_GENRATN    201712           75.92\n6457     2461626  DP_GENRATN    201801           67.52\n6458     2472309  DP_GENRATN    201801             200\n6459     2473494  DP_GENRATN    201801           12.05\n6462     2477358  DP_GENRATN    201801           19.17\n\n[418 rows x 4 columns]\n"
     ]
    }
   ],
   "source": [
    "# Trim into a smaller dataset with just the vars I care about\n",
    "bal_cols = ['Primary BP', 'Product', 'Rpt Month', 'Closing Balance']\n",
    "monthly_data = data[bal_cols]\n",
    "\n",
    "# Keep only the generation accounts\n",
    "monthly_data = monthly_data.loc[monthly_data['Product'] == 'DP_GENRATN']\n",
    "\n",
    "# Trim the data to have only unique values of the month\n",
    "monthly_data = monthly_data.drop_duplicates(['Rpt Month', 'Closing Balance'])\n",
    "print(monthly_data)\n"
   ]
  },
  {
   "cell_type": "markdown",
   "metadata": {},
   "source": [
    "Next, lets write a for loop that iterates over this dataset and does exactly what I described above - subtracts each kids first closing balance from the rest of their closing balances, and saves it as a new variable in the dataset."
   ]
  },
  {
   "cell_type": "code",
   "execution_count": 40,
   "metadata": {},
   "outputs": [],
   "source": [
    "# Housekeeping for the for loop - creating a difference variable in closing balance.\n",
    "# How much does their balance go up or down on a month to month basis?\n",
    "bpid = []\n",
    "diffs = []\n",
    "monthly_data['Closing Balance'] = monthly_data['Closing Balance'].str.replace(\",\", \"\")\n",
    "monthly_data['Closing Balance'] = pd.to_numeric(monthly_data['Closing Balance'])\n",
    "\n",
    "# Create a new variable in monthly_data that simply shows the increase in closing balance for each month,\n",
    "# setting the first month to 0\n",
    "for index, row in monthly_data.iterrows():\n",
    "    bp = row[0]\n",
    "    if bp not in bpid:\n",
    "        bpid.append(bp)\n",
    "        first = row[3]\n",
    "    bal = row[3]\n",
    "    diff = round(bal-first, 2)\n",
    "    diffs.append(diff)\n",
    "    row['balance increase'] = diff"
   ]
  },
  {
   "cell_type": "markdown",
   "metadata": {},
   "source": [
    "Lets check quickly - we had 418 rows in the above dataset - do we have 418 of these new difference scores?"
   ]
  },
  {
   "cell_type": "code",
   "execution_count": 41,
   "metadata": {},
   "outputs": [
    {
     "name": "stdout",
     "output_type": "stream",
     "text": [
      "418\n"
     ]
    }
   ],
   "source": [
    "print(len(diffs))"
   ]
  },
  {
   "cell_type": "markdown",
   "metadata": {},
   "source": [
    "Great, so now lets merge them into our dataset and take a quick eyeball to make sure its right."
   ]
  },
  {
   "cell_type": "code",
   "execution_count": 42,
   "metadata": {},
   "outputs": [
    {
     "name": "stdout",
     "output_type": "stream",
     "text": [
      "     Primary BP     Product Rpt Month  Closing Balance  balance increase\n0        613570  DP_GENRATN    201708           761.04              0.00\n1        613570  DP_GENRATN    201709           761.10              0.06\n2        613570  DP_GENRATN    201710           761.16              0.12\n3        613570  DP_GENRATN    201711           761.22              0.18\n4        613570  DP_GENRATN    201712           761.28              0.24\n5        613570  DP_GENRATN    201801           761.34              0.30\n6        623262  DP_GENRATN    201708            76.16              0.00\n30       623262  DP_GENRATN    201709          1357.84           1281.68\n52       623262  DP_GENRATN    201710            16.03            -60.13\n79       623262  DP_GENRATN    201711          1079.42           1003.26\n85       623262  DP_GENRATN    201712          1024.56            948.40\n136      623262  DP_GENRATN    201801           442.91            366.75\n159      654016  DP_GENRATN    201708          1070.46              0.00\n217      654016  DP_GENRATN    201709          2034.56            964.10\n263      654016  DP_GENRATN    201710           247.14           -823.32\n"
     ]
    }
   ],
   "source": [
    "# Convert my list of differences in closing balance to a series object, and merge with the monthly_data\n",
    "se = pd.Series(diffs)\n",
    "monthly_data['balance increase'] = se.values\n",
    "\n",
    "# Check it out. Looks good to go.\n",
    "print(monthly_data.head(15))"
   ]
  },
  {
   "cell_type": "markdown",
   "metadata": {},
   "source": [
    "Looks right to me. Let's try to plot out these balance changes across the six months."
   ]
  },
  {
   "cell_type": "code",
   "execution_count": 76,
   "metadata": {},
   "outputs": [
    {
     "data": {
      "image/png": "[encoded data removed]",
      "text/plain": [
       "<matplotlib.figure.Figure at 0x111c92a50>"
      ]
     },
     "metadata": {},
     "output_type": "display_data"
    }
   ],
   "source": [
    "# Plotting the balance increase with months as the ticks, and lines for each kid. Centered on zero\n",
    "fig2, ax2 = plt.subplots()\n",
    "\n",
    "\n",
    "for key, grp in monthly_data.groupby(['Primary BP']):\n",
    "    ax2 = grp.plot(ax=ax2, marker = 'o', x='Rpt Month', y='balance increase')\n",
    "ax2.legend_.remove()\n",
    "ax2.tick_params(bottom=\"off\", top=\"off\", left=\"off\", right=\"off\")\n",
    "ax2.set_title('Closing balance by month, relative to first month')\n",
    "ax2.spines[\"right\"].set_visible(False)\n",
    "ax2.spines[\"top\"].set_visible(False)\n",
    "ax2.set_ylabel('Change in Account Balance')\n",
    "ax2.set_xlabel('Month')\n",
    "ax2.set_ylim(-1500,1500)\n",
    "plt.show()\n"
   ]
  },
  {
   "cell_type": "markdown",
   "metadata": {},
   "source": [
    "Sorry for the squished nature of this particular graph. I fought with it for a while but couldn't figure out why there seems to be space for two graphs here. I will still interpret it though because the conclusions are unchanged. One more thing to note is that I've intentionally trimmed the y-axis. There are two kids where you cannot see the end: (1) the kid who has the massive amounts of money money through their account (in excess of $30,000) and (2) one kid who's closing balances drops well into the negative thousands.\n",
    "\n",
    "Not worrying about those two outliers, though, what you see in this graph with respect to closing balances is exactly what I would expect given what we've seen so far - most kids seem to just be hovering aroung zero. Just eyeballing these lines, a good chunk of the kids actually end the 6 months with less money than they started with, or right around zero.\n",
    "\n",
    "Looking at this, it seems like kids just earn and spend a lot, never building up their account balances to more than about $500. So spending seems to be existing at an unsustainable rate.\n",
    "\n",
    "## Savings rate by age category\n",
    "\n",
    "One last analysis, as I mentioned above, is getting the actual average savings rate for each kid, lumping them together by their age groups, and then getting the true averages. Let's first just get a table of each kid and their age group"
   ]
  },
  {
   "cell_type": "code",
   "execution_count": 77,
   "metadata": {},
   "outputs": [
    {
     "name": "stdout",
     "output_type": "stream",
     "text": [
      "Debit Credit Flg                  CR        DB     savings\nPrimary BP Age Grp                                        \n613570     2. 10 to 12 yrs      0.36       NaN         NaN\n623262     6. 17 yrs         5590.99   5249.68    6.104643\n654016     6. 17 yrs        13080.29  13253.80   -1.326500\n800222     1. 1 to 9 yrs    23309.62  25773.65  -10.570872\n904341     6. 17 yrs         3725.76   3734.65   -0.238609\n932022     6. 17 yrs        10861.84  11305.51   -4.084667\n938237     4. 15 yrs         4288.24   3800.17   11.381592\n938266     3. 13 to 14 yrs    250.00    192.14   23.144000\n1299498    6. 17 yrs          560.61   1000.00  -78.377125\n1300140    3. 13 to 14 yrs      1.36       NaN         NaN\n1300744    1. 1 to 9 yrs      205.07    280.40  -36.733798\n1305122    2. 10 to 12 yrs     25.12       NaN         NaN\n1305732    5. 16 yrs        13333.03  16086.07  -20.648270\n1320153    6. 17 yrs         7231.56   6886.73    4.768404\n1329919    3. 13 to 14 yrs    582.15       NaN         NaN\n1329957    6. 17 yrs        17225.19  13121.11   23.826036\n1334105    4. 15 yrs         2960.67   1932.01   34.744163\n1336683    6. 17 yrs           10.24     10.00    2.343750\n1340203    6. 17 yrs        10752.05  10481.68    2.514590\n1341342    3. 13 to 14 yrs    495.09    125.48   74.655113\n1465702    1. 1 to 9 yrs      599.23       NaN         NaN\n1480125    1. 1 to 9 yrs      100.07       NaN         NaN\n1498643    3. 13 to 14 yrs   1000.02       NaN         NaN\n1539493    6. 17 yrs         6238.57   6866.52  -10.065608\n1584490    5. 16 yrs           40.06    187.12 -367.099351\n1621635    5. 16 yrs         1154.16   1156.66   -0.216608\n1624814    3. 13 to 14 yrs       NaN      7.13         NaN\n1658401    5. 16 yrs         4139.13   3839.06    7.249591\n1705063    3. 13 to 14 yrs   7203.33   6860.71    4.756411\n1727796    2. 10 to 12 yrs     50.01     34.93   30.153969\n...                              ...       ...         ...\n2155906    5. 16 yrs         8987.84  10317.33  -14.792097\n2157385    6. 17 yrs         1618.87   1473.53    8.977867\n2175678    6. 17 yrs         9919.74   8273.30   16.597612\n2193649    2. 10 to 12 yrs       NaN      1.05         NaN\n2213806    1. 1 to 9 yrs     1185.00    810.00   31.645570\n2215780    3. 13 to 14 yrs   1050.12   1026.67    2.233078\n2218251    1. 1 to 9 yrs      227.78    125.00   45.122487\n2220084    5. 16 yrs           15.00      5.00   66.666667\n2242251    2. 10 to 12 yrs     60.04    117.11  -95.053298\n2247038    1. 1 to 9 yrs        4.07       NaN         NaN\n2248155    3. 13 to 14 yrs    588.12    562.58    4.342651\n2256696    2. 10 to 12 yrs     96.71     40.00   58.639231\n2260557    6. 17 yrs        10075.50   9865.25    2.086745\n2278709    3. 13 to 14 yrs   1025.01   1039.22   -1.386328\n2282026    6. 17 yrs         5329.21   7591.70  -42.454510\n2297458    6. 17 yrs           20.00       NaN         NaN\n2305263    2. 10 to 12 yrs    100.05    105.64   -5.587206\n2354263    5. 16 yrs          310.12    120.70   61.079582\n2362059    3. 13 to 14 yrs   2081.48   1844.00   11.409190\n2362153    6. 17 yrs         1379.85   1623.03  -17.623655\n2378933    5. 16 yrs          150.19       NaN         NaN\n2388717    1. 1 to 9 yrs     1012.41       NaN         NaN\n2396090    3. 13 to 14 yrs    180.04     66.73   62.936014\n2424276    1. 1 to 9 yrs      580.01    580.00    0.001724\n2447791    2. 10 to 12 yrs    125.00    124.03    0.776000\n2450728    5. 16 yrs         1700.73   1699.15    0.092901\n2461626    2. 10 to 12 yrs     90.00     22.48   75.022222\n2472309    1. 1 to 9 yrs      199.80       NaN         NaN\n2473494    1. 1 to 9 yrs       12.07       NaN         NaN\n2477358    6. 17 yrs          120.00     70.83   40.975000\n\n[90 rows x 3 columns]\n"
     ]
    }
   ],
   "source": [
    "# One more pivot table, with each kid and their age group\n",
    "amounts_moved_kid = pd.pivot_table(data, values='Trxn Amount', index=['Primary BP', 'Age Grp'], columns=['Debit Credit Flg'],\n",
    "                                   aggfunc=sum)\n",
    "# Add in a savings rate column\n",
    "amounts_moved_kid['savings'] = ((amounts_moved_kid['CR'] - amounts_moved_kid['DB']) / amounts_moved_kid['CR'])*100\n",
    "\n",
    "print(amounts_moved_kid)\n"
   ]
  },
  {
   "cell_type": "markdown",
   "metadata": {},
   "source": [
    "Now, just going off this and aggregating by age group - what is the average savings rate for each set of kids?"
   ]
  },
  {
   "cell_type": "code",
   "execution_count": 79,
   "metadata": {},
   "outputs": [
    {
     "name": "stdout",
     "output_type": "stream",
     "text": [
      "Debit Credit Flg       savings\nAge Grp                       \n1. 1 to 9 yrs        15.122325\n2. 10 to 12 yrs      -5.653282\n3. 13 to 14 yrs  -20628.418719\n4. 15 yrs            -5.042239\n5. 16 yrs           -21.773553\n6. 17 yrs             0.294275\n"
     ]
    }
   ],
   "source": [
    "# Now need to make a pivot table off the pivot table, getting average savings rate by age group\n",
    "better_aged = pd.pivot_table(amounts_moved_kid, values='savings', index=['Age Grp'])\n",
    "print(better_aged)\n"
   ]
  },
  {
   "cell_type": "markdown",
   "metadata": {},
   "source": [
    "Again, thera are clearly issues with outliers - 13-14 year old kids having a -20,628% savings rate. Lets just remove anyone with less than a -500% savings rate.\n",
    "\n",
    "We see below one kid has an extremely negative savings rate."
   ]
  },
  {
   "cell_type": "code",
   "execution_count": 82,
   "metadata": {},
   "outputs": [],
   "source": [
    "# There are clearly some outliers here as the average savings rate for 13-14 year olds is -20,628%\n",
    "# Check to see any values over 500\n",
    "amounts_moved_kid['savings'] = pd.to_numeric(amounts_moved_kid['savings'])\n",
    "for index, row in amounts_moved_kid.iterrows():\n",
    "    if row[2] <= -500:\n",
    "        print(row[2])\n",
    "\n",
    "# This shows us there is one person who apparently had a savings rate of -227172.7272.72% - remove\n",
    "amounts_moved_kid = amounts_moved_kid[amounts_moved_kid.savings > -500]"
   ]
  },
  {
   "cell_type": "markdown",
   "metadata": {},
   "source": [
    "Okay - so just going to re-do this table without that kid, and plot it out."
   ]
  },
  {
   "cell_type": "code",
   "execution_count": 83,
   "metadata": {},
   "outputs": [
    {
     "name": "stdout",
     "output_type": "stream",
     "text": [
      "Debit Credit Flg    savings\nAge Grp                    \n1. 1 to 9 yrs     15.122325\n2. 10 to 12 yrs   -5.653282\n3. 13 to 14 yrs   26.012137\n4. 15 yrs         -5.042239\n5. 16 yrs        -21.773553\n6. 17 yrs          0.294275\n"
     ]
    },
    {
     "data": {
      "image/png": "[encoded data removed]",
      "text/plain": [
       "<matplotlib.figure.Figure at 0x115c0b1d0>"
      ]
     },
     "metadata": {},
     "output_type": "display_data"
    }
   ],
   "source": [
    "# Recalc the pivot table\n",
    "better_aged2 = pd.pivot_table(amounts_moved_kid, values='savings', index=['Age Grp'])\n",
    "print(better_aged2)\n",
    "\n",
    "better_aged2['savings'].plot.bar(color='skyblue', ec='black')\n",
    "plt.ylabel('Savings Rate')\n",
    "plt.title('Aggregate savings rate by age group')\n",
    "plt.xlabel('Age Groups')\n",
    "plt.axhline(better_aged2['savings'].mean(), linestyle='dashed', color='red')\n",
    "plt.axhline(0, color='black')\n",
    "plt.gca().set_xticklabels(['1 to 9', '10 to 12', '13 to 14', '15', '16', '17'])\n",
    "plt.show()"
   ]
  },
  {
   "cell_type": "markdown",
   "metadata": {},
   "source": [
    "There we have it - the average savings rate, by age group, with the overall average (1.4%) plotted with the red dashed line. Notice how you can't see the bar for the 17 year olds. That's because the value is only 0.29%. The overall average savings rate is 1.49%, when you take into account that 4 of the 6 groups are either (a) spending more than they earn or (b) saving nothing.\n",
    "\n",
    "# Conclusions\n",
    "\n",
    "While the sample I was working with was relative small, and there were clear oddities present within them, I analyzed the earning and spending data in a handful of different ways. First, I looked at aggregate savings, then aggregate savings by age group. These analyses showed promising rates of saving among the kids (seemingly hovering around 10-20%). However, as I pointed out, aggregate calculations like this are not the greatest. So I followed these up with a series of analyses in which I calculated each individual kids saving rate and took the average, where we saw a mean savings of about 23% - again, a somewhat rosy picture.\n",
    "\n",
    "The last two analyses I ran paint less rosy, but more accurate, pictures of typical spending and saving behavior in this sample of 100 kids. First, looking at closing account balances by month we see that most kids, across a 6 month time span, the kids didn't generally accumulate money. Many kids ended up with account balances lower than where they started 6 months previously, or very close to zero. Second,I calculated the average savings rate by age group and saw that 4 out of 6 age groups spent more than they earned in a six month period. \n",
    "\n",
    "This shows that kids are, particularly as they get older, behaving in such a way that they are not accumulating money and generally spending it as fast as they are earning it, or faster.\n",
    "\n",
    "Obviously, these analyses are limited. They are just my interpretation of a handful of visualizations - I did not run any actual inferential tests. While it appears that depending on the way the data are sliced the average savings rate can fluctuate wildly, the latter analyses are the most appropriate and thus likely the closest to reality."
   ]
  },
  {
   "cell_type": "code",
   "execution_count": null,
   "metadata": {},
   "outputs": [],
   "source": []
  }
 ],
 "metadata": {
  "kernelspec": {
   "display_name": "Python 2",
   "language": "python",
   "name": "python2"
  },
  "language_info": {
   "codemirror_mode": {
    "name": "ipython",
    "version": 2
   },
   "file_extension": ".py",
   "mimetype": "text/x-python",
   "name": "python",
   "nbconvert_exporter": "python",
   "pygments_lexer": "ipython2",
   "version": "2.7.6"
  }
 },
 "nbformat": 4,
 "nbformat_minor": 0
}
