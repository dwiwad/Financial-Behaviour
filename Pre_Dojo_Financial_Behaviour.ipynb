{
 "cells": [
  {
   "cell_type": "markdown",
   "metadata": {
    "collapsed": true
   },
   "source": [
    "# Pre-Dojo Financial Behavior\n",
    "\n",
    "This is just some basic descriptive analysis of the financial behaviour of 31 kids who are signed up to use Dojo. The data were pulled on January 15th, 2018, prior to when the kids actually received and started using Dojo. There are 35 kids in the dataset, which drops to a final set of 29 kids once I remove those who made no transactions.\n",
    "\n",
    "There are a couple small challenges in here, the main one being that I can only get 50 transactions per kid regardless of whether or not there are more transactions. Despite this, we are still starting with a total of 604 transactions"
   ]
  },
  {
   "cell_type": "markdown",
   "metadata": {},
   "source": [
    "## Setup\n",
    "\n",
    "First, just need to import the libraries that I need, bring in the data, and clean it up a little bit to make it useable."
   ]
  },
  {
   "cell_type": "code",
   "execution_count": 64,
   "metadata": {},
   "outputs": [],
   "source": [
    "import pandas as pd\n",
    "\n",
    "# Read the data file in\n",
    "test_data = pd.read_csv('jan_15_data.csv')"
   ]
  },
  {
   "cell_type": "markdown",
   "metadata": {},
   "source": [
    "Just taking a quick peak at the number of transactions under each category."
   ]
  },
  {
   "cell_type": "code",
   "execution_count": 65,
   "metadata": {},
   "outputs": [
    {
     "name": "stdout",
     "output_type": "stream",
     "text": [
      "D    318\n",
      "C    285\n",
      "Name: Transaction_DebitCreditCode, dtype: int64\n",
      "26072.15\n"
     ]
    }
   ],
   "source": [
    "\n",
    "print(test_data['Transaction_DebitCreditCode'].value_counts())\n",
    "print(test_data['Transaction_AccountAmount'].sum())"
   ]
  },
  {
   "cell_type": "markdown",
   "metadata": {},
   "source": [
    "The D stands for Debit, and the C for Credit. So there were 318 instances of kids spending money in the data set, and 285 instances of kids earning money.\n",
    "\n",
    "Across these transactions, how much money was earned and spent, in total?"
   ]
  },
  {
   "cell_type": "code",
   "execution_count": 66,
   "metadata": {},
   "outputs": [
    {
     "name": "stdout",
     "output_type": "stream",
     "text": [
      "                             Transaction_AccountAmount\n",
      "Transaction_DebitCreditCode                           \n",
      "C                                             12764.06\n",
      "D                                             13308.09\n"
     ]
    }
   ],
   "source": [
    "amounts_moved = pd.pivot_table(test_data, values='Transaction_AccountAmount',\n",
    "                               index='Transaction_DebitCreditCode', aggfunc='sum')\n",
    "print(amounts_moved)"
   ]
  },
  {
   "cell_type": "markdown",
   "metadata": {},
   "source": [
    "A total of 13,308.09 was spent by the kids, but they only earned 12,764.06. So, on the surface this does not seem so good! Thats an aggregate savings rate of -4.2%.\n",
    "\n",
    "Let's just take a quick look at the earning and spending by kid to see if anything funky is going on."
   ]
  },
  {
   "cell_type": "code",
   "execution_count": 67,
   "metadata": {},
   "outputs": [
    {
     "name": "stdout",
     "output_type": "stream",
     "text": [
      "                                 Transaction_AccountAmount\n",
      "PID Transaction_DebitCreditCode                           \n",
      "2   C                                                60.00\n",
      "3   C                                                80.00\n",
      "4   C                                              1130.78\n",
      "5   C                                               320.00\n",
      "    D                                               328.30\n",
      "6   C                                               977.42\n",
      "    D                                               814.62\n",
      "7   C                                              1352.96\n",
      "    D                                              1394.44\n",
      "10  C                                               176.27\n",
      "11  C                                               182.09\n",
      "    D                                               251.88\n",
      "12  C                                               117.52\n",
      "13  C                                               137.28\n",
      "    D                                               153.52\n",
      "14  C                                              3357.75\n",
      "    D                                              4861.46\n",
      "15  C                                                60.01\n",
      "16  C                                                60.00\n",
      "    D                                                 6.83\n",
      "17  C                                               410.06\n",
      "    D                                                61.98\n",
      "18  C                                               680.20\n",
      "    D                                              2095.31\n",
      "19  C                                                 0.09\n",
      "    D                                               304.06\n",
      "20  C                                               615.02\n",
      "    D                                               615.00\n",
      "21  C                                                50.52\n",
      "    D                                               100.00\n",
      "22  C                                                 0.42\n",
      "    D                                                50.00\n",
      "23  C                                              1514.57\n",
      "    D                                              1082.31\n",
      "24  C                                               336.24\n",
      "    D                                               319.84\n",
      "25  C                                               260.23\n",
      "    D                                               120.00\n",
      "26  C                                                77.03\n",
      "    D                                               124.00\n",
      "27  C                                               197.22\n",
      "    D                                               131.49\n",
      "28  C                                                 0.04\n",
      "30  C                                                10.00\n",
      "    D                                                 5.00\n",
      "31  C                                                10.00\n",
      "    D                                                 5.00\n",
      "32  C                                                30.00\n",
      "33  C                                               190.07\n",
      "    D                                               204.43\n",
      "34  C                                               350.27\n",
      "    D                                               278.62\n",
      "35  C                                                20.00\n"
     ]
    }
   ],
   "source": [
    "amounts_bykid = pd.pivot_table(test_data, values='Transaction_AccountAmount',\n",
    "                               index=['PID', 'Transaction_DebitCreditCode'], aggfunc='sum')\n",
    "print(amounts_bykid)"
   ]
  },
  {
   "cell_type": "markdown",
   "metadata": {},
   "source": [
    "Most of these look relatively normal, but person number 14 looks odd. They spent almost 5,000 dollars. When I dug into their specific transaction history it was clear they were earning bi-weekly pay cheques of nearly 1,600 and were making Master card payments. So, I assume this is not a kid and I dropped them from the dataset."
   ]
  },
  {
   "cell_type": "code",
   "execution_count": 68,
   "metadata": {},
   "outputs": [],
   "source": [
    "test_data = test_data[test_data['PID'] != 14]"
   ]
  },
  {
   "cell_type": "markdown",
   "metadata": {},
   "source": [
    "Let's just confirm they are gone by again looking at the amount of money earned and spent by each kid."
   ]
  },
  {
   "cell_type": "code",
   "execution_count": 69,
   "metadata": {},
   "outputs": [
    {
     "name": "stdout",
     "output_type": "stream",
     "text": [
      "                                 Transaction_AccountAmount\n",
      "PID Transaction_DebitCreditCode                           \n",
      "2   C                                                60.00\n",
      "3   C                                                80.00\n",
      "4   C                                              1130.78\n",
      "5   C                                               320.00\n",
      "    D                                               328.30\n",
      "6   C                                               977.42\n",
      "    D                                               814.62\n",
      "7   C                                              1352.96\n",
      "    D                                              1394.44\n",
      "10  C                                               176.27\n",
      "11  C                                               182.09\n",
      "    D                                               251.88\n",
      "12  C                                               117.52\n",
      "13  C                                               137.28\n",
      "    D                                               153.52\n",
      "15  C                                                60.01\n",
      "16  C                                                60.00\n",
      "    D                                                 6.83\n",
      "17  C                                               410.06\n",
      "    D                                                61.98\n",
      "18  C                                               680.20\n",
      "    D                                              2095.31\n",
      "19  C                                                 0.09\n",
      "    D                                               304.06\n",
      "20  C                                               615.02\n",
      "    D                                               615.00\n",
      "21  C                                                50.52\n",
      "    D                                               100.00\n",
      "22  C                                                 0.42\n",
      "    D                                                50.00\n",
      "23  C                                              1514.57\n",
      "    D                                              1082.31\n",
      "24  C                                               336.24\n",
      "    D                                               319.84\n",
      "25  C                                               260.23\n",
      "    D                                               120.00\n",
      "26  C                                                77.03\n",
      "    D                                               124.00\n",
      "27  C                                               197.22\n",
      "    D                                               131.49\n",
      "28  C                                                 0.04\n",
      "30  C                                                10.00\n",
      "    D                                                 5.00\n",
      "31  C                                                10.00\n",
      "    D                                                 5.00\n",
      "32  C                                                30.00\n",
      "33  C                                               190.07\n",
      "    D                                               204.43\n",
      "34  C                                               350.27\n",
      "    D                                               278.62\n",
      "35  C                                                20.00\n"
     ]
    }
   ],
   "source": [
    "amounts_bykid_new = pd.pivot_table(test_data, values='Transaction_AccountAmount',\n",
    "                               index=['PID', 'Transaction_DebitCreditCode'], aggfunc='sum')\n",
    "print(amounts_bykid_new)"
   ]
  },
  {
   "cell_type": "markdown",
   "metadata": {},
   "source": [
    "Does removing the adult change the overal savings rate?"
   ]
  },
  {
   "cell_type": "code",
   "execution_count": 70,
   "metadata": {},
   "outputs": [
    {
     "name": "stdout",
     "output_type": "stream",
     "text": [
      "                             Transaction_AccountAmount\n",
      "Transaction_DebitCreditCode                           \n",
      "C                                              9406.31\n",
      "D                                              8446.63\n"
     ]
    }
   ],
   "source": [
    "amounts_moved_new = pd.pivot_table(test_data, values='Transaction_AccountAmount',\n",
    "                               index='Transaction_DebitCreditCode', aggfunc='sum')\n",
    "print(amounts_moved_new)"
   ]
  },
  {
   "cell_type": "markdown",
   "metadata": {},
   "source": [
    "It does change. That adult in the data was skewing it. Now we can see - on the whole - that the kids have an effective savings rate of 10.2%. Not bad! But this is not the best way to actually see the average savings. So I will calculate the savings rate for each kid, then we can just look at the average there.\n",
    "\n",
    "## Savings Rate"
   ]
  },
  {
   "cell_type": "code",
   "execution_count": 71,
   "metadata": {},
   "outputs": [],
   "source": [
    "# First, I grouped the data by person id, and then by debit and credits.\n",
    "# Now, each person has at most two values - the total they spent and the total they earned\n",
    "# If they only earned, they will only have a value for credits, no debits.\n",
    "test_data_grouped = test_data.groupby(['PID', \n",
    "                                       'Transaction_DebitCreditCode']).agg('sum')\n",
    "\n",
    "# Now lets get a savings rate for each kid. For now, just going to build two dictionaries by hand and\n",
    "# do the math across them\n",
    "\n",
    "earnings_by_kid = {\n",
    "    '2': 60.00,\n",
    "    '3': 80.00,\n",
    "    '4': 1130.78,\n",
    "    '5': 320.00,\n",
    "    '6': 977.42,\n",
    "    '7': 1353.96,\n",
    "    '10': 176.27,\n",
    "    '11': 182.09,\n",
    "    '12': 117.52,\n",
    "    '13': 137.28,\n",
    "    '15': 60.01,\n",
    "    '16': 60.00,\n",
    "    '17': 410.06,\n",
    "    '18': 680.20,\n",
    "    '19': 0.09,\n",
    "    '20': 615.02,\n",
    "    '21': 50.52,\n",
    "    '22': 0.42,\n",
    "    '23': 1514.57,\n",
    "    '24': 336.24,\n",
    "    '25': 260.23,\n",
    "    '26': 77.03,\n",
    "    '27': 197.22,\n",
    "    '28': 0.04,\n",
    "    '30': 10.00,\n",
    "    '31': 10.00,\n",
    "    '32': 30.00,\n",
    "    '33': 190.07,\n",
    "    '34': 350.27,\n",
    "    '35': 20.00,\n",
    "}\n",
    "\n",
    "spending_by_kid = {\n",
    "    '2': 0.00,\n",
    "    '3': 0.00,\n",
    "    '4': 0.00,\n",
    "    '5': 328.30,\n",
    "    '6': 814.62,\n",
    "    '7': 1394.44,\n",
    "    '10': 0.00,\n",
    "    '11': 251.88,\n",
    "    '12': 0.00,\n",
    "    '13': 153.52,\n",
    "    '15': 0.00,\n",
    "    '16': 6.83,\n",
    "    '17': 61.98,\n",
    "    '18': 2095.31,\n",
    "    '19': 304.06,\n",
    "    '20': 615.00,\n",
    "    '21': 100.00,\n",
    "    '22': 50.00,\n",
    "    '23': 1082.31,\n",
    "    '24': 319.84,\n",
    "    '25': 130.00,\n",
    "    '26': 124.00,\n",
    "    '27': 131.49,\n",
    "    '28': 0.00,\n",
    "    '30': 5.00,\n",
    "    '31': 5.00,\n",
    "    '32': 0.00,\n",
    "    '33': 204.43,\n",
    "    '34': 278.62,\n",
    "    '35': 0.00,\n",
    "}\n",
    "\n",
    "# Making earnings and spending into lists for later\n",
    "earnings_list = []\n",
    "for key in earnings_by_kid:\n",
    "    earnings = earnings_by_kid[key]\n",
    "    earnings_list.append(earnings)\n",
    "average_earnings = sum(earnings_list) / len(earnings_list)\n",
    "\n",
    "spending_list = []\n",
    "for key in spending_by_kid:\n",
    "    spending = spending_by_kid[key]\n",
    "    spending_list.append(spending)\n",
    "average_spending = sum(spending_list)/len(spending_list)"
   ]
  },
  {
   "cell_type": "code",
   "execution_count": 72,
   "metadata": {},
   "outputs": [
    {
     "name": "stdout",
     "output_type": "stream",
     "text": [
      "-11621.7352012\n"
     ]
    }
   ],
   "source": [
    "savings_rate = []\n",
    "\n",
    "# Now we populate our savings rate list. Just gives us the average savings rate per kid.\n",
    "for key in earnings_by_kid:\n",
    "    saving = (((earnings_by_kid[key]) - (spending_by_kid[key])) / (earnings_by_kid[key]))*100\n",
    "    savings_rate.append(saving)\n",
    "\n",
    "# Lets just print the average savings rate from our dictionary above\n",
    "average_savings_rate = sum(savings_rate)/len(savings_rate)\n",
    "print(average_savings_rate)"
   ]
  },
  {
   "cell_type": "markdown",
   "metadata": {},
   "source": [
    "So, clearly something is goofy here. The average savings rate is -11,621%. When I dug a bit deeper into the earning and spending of each kid I found two outliers. There were two kids who had earnings of less than 0.10, but spending in the hundreds of dollars. So lets remove those kids and recalculate the average savings rate."
   ]
  },
  {
   "cell_type": "code",
   "execution_count": 73,
   "metadata": {},
   "outputs": [
    {
     "name": "stdout",
     "output_type": "stream",
     "text": [
      "32.0410826677\n"
     ]
    }
   ],
   "source": [
    "savings_rate.remove(-11804.761904761905)\n",
    "savings_rate.remove(-337744.4444444445)\n",
    "\n",
    "average_savings_rate = sum(savings_rate)/len(savings_rate)\n",
    "print(average_savings_rate)"
   ]
  },
  {
   "cell_type": "markdown",
   "metadata": {},
   "source": [
    "This is much better, and a lot less horrifying. The average kid is saving 32.04% of what they are earning. Again, not bad! But lets take a look at what this actually looks like.\n",
    "\n",
    "## Histograms"
   ]
  },
  {
   "cell_type": "code",
   "execution_count": 74,
   "metadata": {},
   "outputs": [
    {
     "data": {
      "image/png": "[encoded data removed]",
      "text/plain": [
       "<matplotlib.figure.Figure at 0x10d7db950>"
      ]
     },
     "metadata": {},
     "output_type": "display_data"
    }
   ],
   "source": [
    "import matplotlib.pyplot as plt\n",
    "% matplotlib inline\n",
    "\n",
    "# Savings per kid\n",
    "fig1, ax1 = plt.subplots()\n",
    "fig1 = plt.hist(savings_rate, color='skyblue', ec='black', bins=20)\n",
    "ax1.tick_params(bottom=\"off\", top=\"off\", left=\"off\", right=\"off\")\n",
    "ax1.set_title('Histogram of the Savings rates per kid, Jan 15th, 2018')\n",
    "ax1.spines[\"right\"].set_visible(False)\n",
    "ax1.spines[\"top\"].set_visible(False)\n",
    "ax1.spines['left'].set_visible(False)\n",
    "ax1.set_ylabel('Number of Kids')\n",
    "ax1.set_xlabel('Savings Rate (avg = 32.04%)')\n",
    "ax1.set_ylim(0,15)\n",
    "plt.show()\n",
    "\n",
    "\n"
   ]
  },
  {
   "cell_type": "markdown",
   "metadata": {},
   "source": [
    "This demonstrates, to me, that the average savings rate of 32% is artificially high. I don't think kids are actually saving that much. You can see that right in the middle, 6 kids spent all of what they earned - thats 20% of kids who saved nothing, and another 20% of the kids who are in the red.\n",
    "\n",
    "The kids who are all up there at 100% savings rates just simply do not have any transactional data yet on their accounts. I suspect this will change once they start using Dojo. I don't think its that they aren't spending any money, I think its that they haven't spent any money yet before getting set up with Dojo. What does the histogram look like, and the average savings rate, if we quickly take a look without these kids with 100% savings?"
   ]
  },
  {
   "cell_type": "code",
   "execution_count": 76,
   "metadata": {},
   "outputs": [
    {
     "name": "stdout",
     "output_type": "stream",
     "text": [
      "-14.9983437092\n"
     ]
    },
    {
     "data": {
      "image/png": "[encoded data removed]",
      "text/plain": [
       "<matplotlib.figure.Figure at 0x10cfa2ed0>"
      ]
     },
     "metadata": {},
     "output_type": "display_data"
    }
   ],
   "source": [
    "# Make a new savings rate dataset, removing the 100%ers\n",
    "new_saving = []\n",
    "for row in savings_rate:\n",
    "    if row != 100:\n",
    "        new_saving.append(row)\n",
    "# Average savings\n",
    "new_avg = ((sum(new_saving))/(len(new_saving))*100)\n",
    "print(new_avg)\n",
    "        \n",
    "# Plot it\n",
    "fig2, ax2 = plt.subplots()\n",
    "fig2 = plt.hist(new_saving, color='skyblue', ec='black', bins=20)\n",
    "ax2.tick_params(bottom=\"off\", top=\"off\", left=\"off\", right=\"off\")\n",
    "ax2.set_title('Histogram of the Savings rates per kid, Jan 15th, 2018')\n",
    "ax2.spines[\"right\"].set_visible(False)\n",
    "ax2.spines[\"top\"].set_visible(False)\n",
    "ax2.spines['left'].set_visible(False)\n",
    "ax2.set_ylabel('Number of Kids')\n",
    "ax2.set_xlabel('Savings Rate (avg = -14.99%)')\n",
    "ax2.set_ylim(0,8)\n",
    "plt.show()"
   ]
  },
  {
   "cell_type": "markdown",
   "metadata": {},
   "source": [
    "This makes a lot more sense. I will add the disclaimer that we obviously don't know right now if my suggestion that those kids aren't actually saving 100% is correct. I only suspect they are kids with brand new accounts. We will know this for certain once we have more data on them from ATB, after using Dojo for a bit.\n",
    "\n",
    "What we see now, is a much more dismal picture of kids spending and saving. Of the remaining 20 kids, almost 50% of them are in the red, and the average savings rate is now 15%.\n",
    "\n",
    "Assuming my hunch regarding the 100% savers, this is a much more compelling picture of kids spending habits, and a strong case for why Dojo is a great idea. Change these bad habits before they have a chance to take hold."
   ]
  },
  {
   "cell_type": "markdown",
   "metadata": {},
   "source": [
    "### Earning and Spending \n",
    "\n",
    "Just a quick visualization of earning and spending, just to see the distributions - are there any weird things right off the bat?"
   ]
  },
  {
   "cell_type": "code",
   "execution_count": 80,
   "metadata": {},
   "outputs": [
    {
     "data": {
      "image/png": "[encoded data removed]",
      "text/plain": [
       "<matplotlib.figure.Figure at 0x10d3f28d0>"
      ]
     },
     "metadata": {},
     "output_type": "display_data"
    }
   ],
   "source": [
    "# Earnings per kid\n",
    "fig3, ax3 = plt.subplots()\n",
    "fig3 = plt.hist(earnings_list, color='skyblue', ec='black', bins=20)\n",
    "ax3.tick_params(bottom='off', top='off', left='off', right='off')\n",
    "ax3.set_title('Histogram of Earnings per kid, Jan 15th, 2018')\n",
    "ax3.spines['right'].set_visible(False)\n",
    "ax3.spines['top'].set_visible(False)\n",
    "ax3.spines['left'].set_visible(False)\n",
    "ax3.set_ylabel('Number of Kids')\n",
    "ax3.set_xlabel('Earnings (avg = $313.58)')\n",
    "ax3.set_ylim(0,15)\n",
    "plt.savefig(\"Earning_per_Kid.png\", dpi=150)\n",
    "plt.show()"
   ]
  },
  {
   "cell_type": "code",
   "execution_count": 80,
   "metadata": {},
   "outputs": [
    {
     "data": {
      "image/png": "[encoded data removed]",
      "text/plain": [
       "<matplotlib.figure.Figure at 0x10d3d8d90>"
      ]
     },
     "metadata": {},
     "output_type": "display_data"
    }
   ],
   "source": [
    "# Spending per kid\n",
    "fig4, ax4 = plt.subplots()\n",
    "fig4 = plt.hist(spending_list, color='skyblue', ec='black', bins=20)\n",
    "ax4.tick_params(bottom='off', top='off', left='off', right='off')\n",
    "ax4.set_title('Histogram of Spending per kid, Jan 15th, 2018')\n",
    "ax4.spines['right'].set_visible(False)\n",
    "ax4.spines['top'].set_visible(False)\n",
    "ax4.spines['left'].set_visible(False)\n",
    "ax4.set_ylabel('Number of Kids')\n",
    "ax4.set_xlabel('Spending (avg = $281.89)')\n",
    "ax4.set_ylim(0,18)\n",
    "plt.savefig(\"Spending_per_Kid.png\", dpi=150)\n",
    "plt.show()"
   ]
  },
  {
   "cell_type": "markdown",
   "metadata": {},
   "source": [
    "To me, it is clear again that I think we have outliers skewing our kid data. There seems to be 5 kids in the dataset who earned and spent over 500 dollars. The rest of the kids were below that. I think once we have a more fleshed out dataset we will learn whether or not these kids are truly outliers or if the gaps get filled in. But it seems to me that most kids are earning and spending under 400 dollars across the time range of the data we have. This will become clear when he have more data.\n",
    "\n",
    "# Challenges\n",
    "\n",
    "A couple small challenges within these data are with respect to the sample size to begin with. Despite having nearly 600 transactions in the data set to base these numbers off of, this is still only representative of 29 kids. This should be solved once we have the full dataset from ATB.\n",
    "\n",
    "The biggest challenge is regarding the time frame of the transactional data, and the incomplete records from ATB. Despite some kids have over 50 transactions, I could not pull more than 50, so some of these kids are incomplete and we therefore might not have the most accurate depiction of their spending and saving. Along with these, within these data I did not standardize the time frame. So this might be two months of data from some kids, but two weeks for others. In further analyses, once the data are more complete and we have access to complete records, I will standardize all time frames. For example, we can analyze spending and saving for three months leading up to the kids beginning with Dojo, then the following three months to see how their behavior changes over time around that focal point."
   ]
  },
  {
   "cell_type": "code",
   "execution_count": null,
   "metadata": {},
   "outputs": [],
   "source": []
  }
 ],
 "metadata": {
  "kernelspec": {
   "display_name": "Python 2",
   "language": "python",
   "name": "python2"
  },
  "language_info": {
   "codemirror_mode": {
    "name": "ipython",
    "version": 2
   },
   "file_extension": ".py",
   "mimetype": "text/x-python",
   "name": "python",
   "nbconvert_exporter": "python",
   "pygments_lexer": "ipython2",
   "version": "2.7.10"
  }
 },
 "nbformat": 4,
 "nbformat_minor": 1
}
